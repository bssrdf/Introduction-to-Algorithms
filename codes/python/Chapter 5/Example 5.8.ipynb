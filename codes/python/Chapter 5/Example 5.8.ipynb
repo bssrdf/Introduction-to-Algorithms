{
 "cells": [
  {
   "cell_type": "code",
   "execution_count": 3,
   "metadata": {},
   "outputs": [],
   "source": [
    "def Maximum_Consecutive_Subsequence(X, n):\n",
    "    ### Adding the corner case: []\n",
    "    if not X:\n",
    "        return None\n",
    "    ### Adding the corner case: all of the numbers in array are smaller than 0\n",
    "    if max(X) < 0:\n",
    "        return None\n",
    "    Global_max = 0\n",
    "    Suffix_max = 0\n",
    "    for i in range(n):\n",
    "        if X[i] + Suffix_max > Global_max:\n",
    "            Suffix_max = Suffix_max + X[i]\n",
    "            Global_max = Suffix_max\n",
    "        elif X[i] + Suffix_max > 0:\n",
    "            Suffix_max = X[i] + Suffix_max\n",
    "        else: Suffix_max = 0\n",
    "    return Global_max"
   ]
  },
  {
   "cell_type": "code",
   "execution_count": 4,
   "metadata": {},
   "outputs": [
    {
     "name": "stdout",
     "output_type": "stream",
     "text": [
      "3.5\n"
     ]
    }
   ],
   "source": [
    "X = [2, -3, 1.5, -1, 3, -2, -3, 3]\n",
    "print(Maximum_Consecutive_Subsequence(X, len(X)))"
   ]
  }
 ],
 "metadata": {
  "kernelspec": {
   "display_name": "Python 3",
   "language": "python",
   "name": "python3"
  },
  "language_info": {
   "codemirror_mode": {
    "name": "ipython",
    "version": 3
   },
   "file_extension": ".py",
   "mimetype": "text/x-python",
   "name": "python",
   "nbconvert_exporter": "python",
   "pygments_lexer": "ipython3",
   "version": "3.7.4"
  }
 },
 "nbformat": 4,
 "nbformat_minor": 2
}
